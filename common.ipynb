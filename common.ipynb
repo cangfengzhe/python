{
 "cells": [
  {
   "cell_type": "code",
   "execution_count": 10,
   "metadata": {
    "collapsed": true
   },
   "outputs": [],
   "source": [
    "'''\n",
    "常用函数进行封装\n",
    "'''\n",
    "import logging , urllib, csv\n",
    "\n",
    "__version__ = '0.0.1'\n",
    "__author__ = 'Pidong Li (hope-dream@163.com)'"
   ]
  },
  {
   "cell_type": "code",
   "execution_count": 7,
   "metadata": {
    "collapsed": true
   },
   "outputs": [],
   "source": [
    "\n",
    "def request(url, data=None, headers={}):\n",
    "    '''\n",
    "    网络请求\n",
    "    '''\n",
    "    req = urllib.request.Request(url_shop_list , data, headers)\n",
    "    response = urllib.request.urlopen(req)\n",
    "    text = response.read().decode('utf-8')\n",
    "    return text"
   ]
  },
  {
   "cell_type": "code",
   "execution_count": 9,
   "metadata": {
    "collapsed": false
   },
   "outputs": [
    {
     "name": "stdout",
     "output_type": "stream",
     "text": [
      "Help on function request in module __main__:\n",
      "\n",
      "request(url, data, headers)\n",
      "    # 网络请求\n",
      "\n"
     ]
    }
   ],
   "source": [
    "def log(file_name, logger_name = 'root'):\n",
    "    '''\n",
    "    封装一个log包，方便今后使用\n",
    "    '''\n",
    "    logger=logging.getLogger(logger_name)\n",
    "    formatter = logging.Formatter(\"%(asctime)s - %(name)s - %(levelname)s - %(message)s\")\n",
    "\n",
    "    handler=logging.FileHandler(file_name)\n",
    "    handler.setFormatter(formatter)\n",
    "    logger.addHandler(handler)\n",
    "    logger.setLevel(logging.NOTSET)\n",
    "    return logger"
   ]
  },
  {
   "cell_type": "code",
   "execution_count": null,
   "metadata": {
    "collapsed": true
   },
   "outputs": [],
   "source": [
    "def write_csv(data, colnames, path):\n",
    "    csvfile = open(path, 'wb')  \n",
    "    csvfile.write(codecs.BOM_UTF8) # 二进制写入bom解决excel打开乱码问题\n",
    "    csvfile.close()\n",
    "    csvfile = open(path, 'a', encoding = 'utf-8')  \n",
    "    writers = csv.writer(csvfile) \n",
    "    writers.writerow(rownames)\n",
    "    writers.writerows(data)\n",
    "    csvfile.close()"
   ]
  }
 ],
 "metadata": {
  "kernelspec": {
   "display_name": "Python 3",
   "language": "python",
   "name": "python3"
  },
  "language_info": {
   "codemirror_mode": {
    "name": "ipython",
    "version": 3
   },
   "file_extension": ".py",
   "mimetype": "text/x-python",
   "name": "python",
   "nbconvert_exporter": "python",
   "pygments_lexer": "ipython3",
   "version": "3.4.3"
  }
 },
 "nbformat": 4,
 "nbformat_minor": 0
}
