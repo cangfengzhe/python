{
 "cells": [
  {
   "cell_type": "code",
   "execution_count": 1,
   "metadata": {
    "collapsed": false
   },
   "outputs": [],
   "source": [
    "'''\n",
    "手机抓包\n",
    "'''\n",
    "\n",
    "import re , urllib , http.cookiejar , base64 , binascii , rsa, json, time\n",
    "import sqlite3\n",
    "from log import log\n",
    "\n",
    "__version__ = '0.0.1'\n",
    "__author__ = 'Pidong Li (hope-dream@163.com)'\n",
    "cj = http.cookiejar.LWPCookieJar()\n",
    "cookie_support = urllib.request.HTTPCookieProcessor(cj)\n",
    "opener = urllib.request.build_opener(cookie_support , urllib.request.HTTPHandler)\n",
    "urllib.request.install_opener(opener)\n",
    "\n"
   ]
  },
  {
   "cell_type": "code",
   "execution_count": 2,
   "metadata": {
    "collapsed": true
   },
   "outputs": [],
   "source": [
    "headers = {\n",
    "\"User-Agent\":\" Dalvik/1.6.0 (Linux; U; Android 4.1.1; MI 2A MIUI/4.12.5)\",\n",
    "\"Host\":\" cy.zhubaotown.com\",\n",
    "\"Connection\":\" Keep-Alive\",\n",
    "\"Accept-Encoding\":\" gzip\",\n",
    "\"Content-Type\":\" application/x-www-form-urlencoded\"\n",
    "}"
   ]
  },
  {
   "cell_type": "code",
   "execution_count": 3,
   "metadata": {
    "collapsed": true
   },
   "outputs": [],
   "source": [
    "token = 'f0d4992ab910290d9cc8716f16f61b5430de4141e3321a25fa12bb627421502beb7aac2f'"
   ]
  },
  {
   "cell_type": "code",
   "execution_count": 4,
   "metadata": {
    "collapsed": false
   },
   "outputs": [],
   "source": [
    "def get_shop_list(page, size):\n",
    "\n",
    "    '''\n",
    "        获得商家列表，以json导出\n",
    "    '''\n",
    "\n",
    "    para_shop_list = 'orderKeyword=desc&orderValue=sort_order&page=%d&screenRegionId=0&size=%d&uId=16891&token=%s\\\n",
    "    &bundleId=com.zbxz.cuiyuan&product_type=cyretail&sysType=1' % (page, size, token)\n",
    "    url_shop_list = 'http://cy.zhubaotown.com/index.php/shop/allShopList/'\n",
    "    data = para_shop_list.encode('utf-8')\n",
    "\n",
    "    request = urllib.request.Request(url_shop_list , data, headers)\n",
    "    response = urllib.request.urlopen(request)\n",
    "    text = response.read().decode('utf-8')\n",
    "    out = json.loads(text)\n",
    "    return out['datas']\n"
   ]
  },
  {
   "cell_type": "code",
   "execution_count": 5,
   "metadata": {
    "collapsed": false
   },
   "outputs": [],
   "source": [
    "# 连接数据库\n",
    "con = sqlite3.connect('cuiyuan.db')\n",
    "cu = con.cursor()\n"
   ]
  },
  {
   "cell_type": "code",
   "execution_count": 6,
   "metadata": {
    "collapsed": true
   },
   "outputs": [],
   "source": [
    "# 商家列表 shop_list 写入数据库，不清楚具体的商铺数目，先试10000个\n",
    "def db_shop_list():\n",
    "    cu.execute('create table if not exists shop_list(shopId int, shopLogo varchar(255), shopMaster varchar(100), \\\n",
    "    shopName varchar(255), shopSn varchar(255), shopTotalGoods int)')\n",
    "    con.commit()\n",
    "    shops = []\n",
    "    for ii in range(100):\n",
    "        try:\n",
    "            print(ii+1)\n",
    "            shops = get_shop_list(ii+1, 100)\n",
    "            for shop in shops:\n",
    "                cu.execute(r\"insert into shop_list values(?, ?, ?, ?, ?, ?)\", (shop['shopId'], shop['shopLogo'], shop['shopMaster'], shop['shopName'], shop['shopSn'], shop['shopTotalGoods']))\n",
    "            con.commit()\n",
    "        except Exception as e:\n",
    "            print(e)\n"
   ]
  },
  {
   "cell_type": "code",
   "execution_count": 7,
   "metadata": {
    "collapsed": false
   },
   "outputs": [],
   "source": [
    "# 获取 商铺的id和商铺拥有的物品数目\n",
    "cu.execute('select distinct shopId, shopTotalGoods from shop_list')\n",
    "shop_ids = cu.fetchall()"
   ]
  },
  {
   "cell_type": "code",
   "execution_count": 8,
   "metadata": {
    "collapsed": false
   },
   "outputs": [],
   "source": [
    "# 得到商铺的id\n",
    "shop_ids_1 = []  \n",
    "for x in shop_ids:\n",
    "    shop_ids_1.append(x[0])"
   ]
  },
  {
   "cell_type": "code",
   "execution_count": 7,
   "metadata": {
    "collapsed": true
   },
   "outputs": [],
   "source": [
    "# 根据商铺数据，得到物品的id，这是一页的\n",
    "def shop2goods_id_page(page, shop_id, size, token):\n",
    "    para_goods_id = 'goodsNew=0&isRecommended=0&page=%d&shopId=%d&size=%s&uId=16891&token=%s\\\n",
    "    &bundleId=com.zbxz.cuiyuan&product_type=cyretail&sysType=1' % (page ,shop_id,  size, token)\n",
    "    url_goods_id = 'http://cy.zhubaotown.com/index.php/shop/shopGoodsList_new/'\n",
    "    data = para_goods_id.encode('utf-8')\n",
    "\n",
    "    request = urllib.request.Request(url_goods_id , data, headers)\n",
    "    response = urllib.request.urlopen(request)\n",
    "    text = response.read().decode('utf-8')\n",
    "    xx = json.loads(text)['datas']\n",
    "    return(xx)"
   ]
  },
  {
   "cell_type": "code",
   "execution_count": 10,
   "metadata": {
    "collapsed": false
   },
   "outputs": [],
   "source": [
    "# 根据商铺数据，得到全部物品的id，\n",
    "def shop2goods_id(shop_id, shopTotalGoods, token, size = 100):\n",
    "# 获得商家的物品\n",
    "    goods = []\n",
    "    if shopTotalGoods>100 :\n",
    "        for page in range(math.floor(shopTotalGoods/size)+1):\n",
    "            xx = shop2goods_id_page(page + 1, shop_id, size, token)\n",
    "            goods = goods + xx\n",
    "    elif 0< shopTotalGoods <101:\n",
    "        xx = shop2goods_id_page(1, shop_id, shopTotalGoods, token)\n",
    "        goods = goods + xx\n",
    "    else:\n",
    "        print('chucuole')\n",
    "    return goods"
   ]
  },
  {
   "cell_type": "code",
   "execution_count": null,
   "metadata": {
    "collapsed": false
   },
   "outputs": [],
   "source": [
    "# shop_ids2goods_ids 写入数据库\n",
    "#新建数据库 shop2goods\n",
    "def db_shop2goods():\n",
    "    cu.execute('create table if not exists shop2goods (shop_id int , goods_id int, date varchar(100))')\n",
    "    con.commit()\n",
    "    index = 1695\n",
    "    for shop_id in shop_ids:\n",
    "        index = index+1\n",
    "        print(index)\n",
    "        try:\n",
    "            goods_list = shop2goods_id(shop_id[0], shop_id[1], token)\n",
    "            for goods in goods_list:\n",
    "                cu.execute(\"insert into shop2goods values(%d, %d, '%s')\" %(shop_id[0], goods['goodsId'], goods['add_time']))\n",
    "        except Exception as e:\n",
    "            print(e)\n",
    "        con.commit()"
   ]
  },
  {
   "cell_type": "code",
   "execution_count": 8,
   "metadata": {
    "collapsed": false,
    "scrolled": true
   },
   "outputs": [],
   "source": [
    "# 获取 goods_info\n",
    "def get_goods_info(goods_id):\n",
    "    '''\n",
    "    通过goods_id获取内容\n",
    "    '''\n",
    "    goods_id = str(goods_id)\n",
    "    para_goods_info = 'goodsId=%s&uId=16891&token=%s&bundleId=com.zbxz.cuiyuan&product_type=cyretail&sysType=1' % (goods_id, token)\n",
    "    url_goods_info = 'http://cy.zhubaotown.com/index.php/goods/getGoodsInfo/'\n",
    "    data = para_goods_info.encode('utf-8')\n",
    "    try:\n",
    "        request = urllib.request.Request(url_goods_info , data, headers)\n",
    "        response = urllib.request.urlopen(request)\n",
    "        text = response.read().decode('utf-8')\n",
    "        xx = json.loads(text)[\"goodsInfo\"]\n",
    "    except:\n",
    "        print(goods_id, 'error')\n",
    "    \n",
    "    return xx\n",
    "\n"
   ]
  },
  {
   "cell_type": "code",
   "execution_count": 51,
   "metadata": {
    "collapsed": false
   },
   "outputs": [],
   "source": [
    "# 删除物品数据重新开始\n",
    "def db_clear_goods_info():\n",
    "    cu.execute('drop table if exists goods_info')\n",
    "    cu.execute('drop table if exists goods_img_url')\n",
    "    # 物品信息写入数据库,21列\n",
    "    # 创建数据库\n",
    "    cu.execute('create table if not exists goods_info (goodsId varchar(20), appointmentedStatus varchar(20), \\\n",
    "                goodsInfo varchar(200), shopId varchar(20), title varchar(255),\\\n",
    "                 goodsMaterialId varchar(20), goodsSn varchar(20), goodsTypeId varchar(20),\\\n",
    "                has_cert varchar(20),isAppointmented varchar(20), isConcern varchar(20), isRecommended varchar(20),isimplant varchar(20), orderStatus varchar(20),\\\n",
    "                price real, priceRangeName varchar(255), quantity varchar(20),\\\n",
    "                goodPattern varchar(100), goodPatternId varchar(20), goodsCateId int, goodsCateName varchar(100) )')\n",
    "    cu.execute('create table if not exists goods_img_url (goods_id int, img_url text)')\n",
    "\n",
    "    con.commit()"
   ]
  },
  {
   "cell_type": "code",
   "execution_count": 9,
   "metadata": {
    "collapsed": false,
    "scrolled": true
   },
   "outputs": [],
   "source": [
    "\n",
    "# 得到全部的物品id\n",
    "cu.execute('select distinct goods_id from shop2goods')\n",
    "goods_ids = cu.fetchall() \n"
   ]
  },
  {
   "cell_type": "code",
   "execution_count": 10,
   "metadata": {
    "collapsed": true
   },
   "outputs": [],
   "source": [
    "# 图片url写入数据库\n",
    "\n",
    "def get_img_url(goods_id, img_arr):\n",
    "    for img in img_arr:\n",
    "        cu.execute('insert into goods_img_url values(?, ?)', (goods_id, img['imgUrl']) )\n",
    "\n",
    "\n",
    "\n",
    "    \n",
    "    "
   ]
  },
  {
   "cell_type": "code",
   "execution_count": 11,
   "metadata": {
    "collapsed": true
   },
   "outputs": [],
   "source": [
    "\n",
    "logger = log('cuiyuan.log', 'goods_info')\n",
    "def db_goods_info(goods_ids):\n",
    "    index = 0\n",
    "    for goods_id in goods_ids:\n",
    "        index = index +1;\n",
    "        print(r'已完成 '+ str( index/len(goods_ids)*100) + '%, 请耐心等待', end = '\\r')\n",
    "        try:\n",
    "            goods_info = get_goods_info(goods_id)\n",
    "            cu.execute(\"insert into goods_info values(?,?,?,?,?,?,?,?,?,?,?,?,?,?,?,?,?,?,?,?,?)\", \\\n",
    "                       (goods_info['goodsId'], goods_info['appointmentedStatus'], goods_info['goodsInfo'], goods_info['shopId'], \\\n",
    "                        goods_info['title'], goods_info['goodsMaterialId']\\\n",
    "                       , goods_info['goodsSn'], goods_info['goodsTypeId'], goods_info['has_cert'], goods_info['isAppointmented'], goods_info['isConcern']\\\n",
    "                       , goods_info['isRecommended'], goods_info['isimplant'], goods_info['orderStatus'], goods_info['price'], goods_info['priceRangeName'], goods_info['quantity'], goods_info['goodPattern']\\\n",
    "                       , goods_info['goodPatternId'], goods_info['goodsCateId'], goods_info['goodsCateName']))\n",
    "            get_img_url(goods_id[0], goods_info['goodsImgArr'])\n",
    "            con.commit()\n",
    "        except Exception as e:\n",
    "    #         print(e)\n",
    "            logger.error('物品信息不完整')\n",
    "            con.rollback()"
   ]
  },
  {
   "cell_type": "code",
   "execution_count": null,
   "metadata": {
    "collapsed": false
   },
   "outputs": [],
   "source": [
    "# 查找更新的id"
   ]
  },
  {
   "cell_type": "code",
   "execution_count": 68,
   "metadata": {
    "collapsed": false
   },
   "outputs": [
    {
     "name": "stdout",
     "output_type": "stream",
     "text": [
      "46643\n"
     ]
    },
    {
     "data": {
      "text/plain": [
       "<sqlite3.Cursor at 0x107c9d960>"
      ]
     },
     "execution_count": 68,
     "metadata": {},
     "output_type": "execute_result"
    }
   ],
   "source": [
    "\n",
    "print(len(aa))\n",
    "cu.execute('select distinct goods_id from goods_img_url') # 46643\n"
   ]
  },
  {
   "cell_type": "code",
   "execution_count": 12,
   "metadata": {
    "collapsed": true
   },
   "outputs": [],
   "source": [
    "# 将数据库返回值的变为list（仅是第一列）\n",
    "def tuple2list(tuple_list):\n",
    "    out = []\n",
    "    for xx in tuple_list:\n",
    "        out.append(str(xx[0]))\n",
    "    return out"
   ]
  },
  {
   "cell_type": "code",
   "execution_count": 13,
   "metadata": {
    "collapsed": false
   },
   "outputs": [],
   "source": [
    "# 取差集\n",
    "\n",
    "def update_goods_info(goods_new_ids):\n",
    "     # 需要另外函数\n",
    "    goods_new_ids_list = tuple2list(goods_new_ids)\n",
    "    cu.execute('select distinct goods_id from shop2goods')\n",
    "    goods_ids = cu.fetchall() \n",
    "    goods_ids_list = tuple2list(goods_ids)\n",
    "    goods_update__ids = list(set(goods_new_ids_list).difference(set(goods_ids_list)))  # goods_new_ids_list - goods_ids_list\n",
    "    db_goods_info(goods_update__ids)\n",
    "    \n",
    "    \n",
    "    \n",
    "    \n",
    "    "
   ]
  },
  {
   "cell_type": "code",
   "execution_count": 15,
   "metadata": {
    "collapsed": true
   },
   "outputs": [],
   "source": [
    "cu.execute('select distinct goodsId from goods_info') #46643\n",
    "goods_new_ids = cu.fetchall()\n",
    "goods_new_ids_list = tuple2list(goods_new_ids)\n",
    "cu.execute('select distinct goods_id from shop2goods')\n",
    "goods_ids = cu.fetchall() \n",
    "goods_ids_list = tuple2list(goods_ids)\n",
    "goods_update__ids = list(set(goods_ids_list).difference(set(goods_new_ids_list)))  # goods_new_ids_list - goods_ids_list\n"
   ]
  },
  {
   "cell_type": "code",
   "execution_count": null,
   "metadata": {
    "collapsed": true
   },
   "outputs": [],
   "source": [
    "db_goods_info(goods_update__ids)"
   ]
  },
  {
   "cell_type": "code",
   "execution_count": 58,
   "metadata": {
    "collapsed": true
   },
   "outputs": [],
   "source": [
    "cu.close()\n",
    "con.close()"
   ]
  },
  {
   "cell_type": "code",
   "execution_count": 18,
   "metadata": {
    "collapsed": false
   },
   "outputs": [],
   "source": [
    "import csv\n",
    "cu.execute('select * from goods_info')\n",
    "goods_info_all = cu.fetchall()\n",
    "rownames = ['goodsId' , 'appointmentedStatus' , 'goodsInfo' , 'shopId' , 'title' , 'goodsMaterialId' , 'goodsSn' , 'goodsTypeId' , 'has_cert' ,'isAppointmented' , 'isConcern' , 'isRecommended' ,'isimplant' , 'orderStatus' , 'price', 'priceRangeName' , 'quantity' , 'goodPattern', 'goodPatternId' , 'goodsCateId', 'goodsCateName']\n",
    "csvfile = open('物品信息.csv', 'w')  \n",
    "writers = csv.writer(csvfile) \n",
    "writers.writerow(rownames)\n",
    "writers.writerows(goods_info_all)\n",
    "csvfile.close()"
   ]
  },
  {
   "cell_type": "code",
   "execution_count": 22,
   "metadata": {
    "collapsed": true
   },
   "outputs": [],
   "source": [
    "cu.execute('select * from shop_list left join goods_info on shop_list.shopId = goods_info.shopId')\n",
    "shop_goods_all = cu.fetchall()\n",
    "\n",
    "rownames = ['shopId', 'shopLogo' , 'shopMaster','shopName', 'shopSn', 'shopTotalGoods', \\\n",
    "           'goodsId' , 'appointmentedStatus' , 'goodsInfo' , 'shopId' , 'title' , 'goodsMaterialId' , 'goodsSn' , 'goodsTypeId' , 'has_cert' ,'isAppointmented' , 'isConcern' , 'isRecommended' ,'isimplant' , 'orderStatus' , 'price', 'priceRangeName' , 'quantity' , 'goodPattern', 'goodPatternId' , 'goodsCateId', 'goodsCateName']\n",
    "csvfile = open('商家-物品信息utf.csv', 'w', encoding = 'utf-8')  \n",
    "writers = csv.writer(csvfile) \n",
    "writers.writerow(rownames)\n",
    "writers.writerows(shop_goods_all)\n",
    "csvfile.close()"
   ]
  },
  {
   "cell_type": "code",
   "execution_count": 21,
   "metadata": {
    "collapsed": true
   },
   "outputs": [],
   "source": [
    "cu.execute('select * from goods_img_url')\n",
    "img_url_all = cu.fetchall()\n",
    "\n",
    "rownames = ['goodsId', 'goods_img_url']\n",
    "csvfile = open('物品图片.csv', 'w')  \n",
    "writers = csv.writer(csvfile) \n",
    "\n",
    "writers.writerow(rownames)\n",
    "writers.writerows(img_url_all)\n",
    "csvfile.close()"
   ]
  },
  {
   "cell_type": "code",
   "execution_count": null,
   "metadata": {
    "collapsed": true
   },
   "outputs": [],
   "source": [
    "cu.execute('select * from shop_list left join goods_info on shop_list.shopId = goods_info.shopId')\n",
    "shop_goods_all = cu.fetchall()"
   ]
  },
  {
   "cell_type": "code",
   "execution_count": 43,
   "metadata": {
    "collapsed": false
   },
   "outputs": [],
   "source": [
    "\n",
    "\n",
    "rownames = ['shopId', 'shopLogo' , 'shopMaster','shopName', 'shopSn', 'shopTotalGoods', \\\n",
    "           'goodsId' , 'appointmentedStatus' , 'goodsInfo' , 'shopId' , 'title' , 'goodsMaterialId' , 'goodsSn' , 'goodsTypeId' , 'has_cert' ,'isAppointmented' , 'isConcern' , 'isRecommended' ,'isimplant' , 'orderStatus' , 'price', 'priceRangeName' , 'quantity' , 'goodPattern', 'goodPatternId' , 'goodsCateId', 'goodsCateName']\n",
    "csvfile = open('商家-物品信息.csv', 'wb')  \n",
    "csvfile.write(codecs.BOM_UTF8)\n",
    "csvfile.close()\n",
    "csvfile = open('商家-物品信息.csv', 'a', encoding = 'utf-8')  \n",
    "writers = csv.writer(csvfile) \n",
    "writers.writerow(rownames)\n",
    "\n",
    "for line in shop_goods_all:\n",
    "    writers.writerow(line)\n",
    "csvfile.close()"
   ]
  },
  {
   "cell_type": "code",
   "execution_count": 28,
   "metadata": {
    "collapsed": true
   },
   "outputs": [],
   "source": [
    "import codecs  \n"
   ]
  },
  {
   "cell_type": "code",
   "execution_count": 45,
   "metadata": {
    "collapsed": true
   },
   "outputs": [],
   "source": [
    "cu.execute('select * from shop_list')\n",
    "data = cu.fetchall()\n",
    "rownames = ['shopId', 'shopLogo' , 'shopMaster','shopName', 'shopSn', 'shopTotalGoods']\n",
    "#            'goodsId' , 'appointmentedStatus' , 'goodsInfo' , 'shopId' , 'title' , 'goodsMaterialId' , 'goodsSn' , 'goodsTypeId' , 'has_cert' ,'isAppointmented' , 'isConcern' , 'isRecommended' ,'isimplant' , 'orderStatus' , 'price', 'priceRangeName' , 'quantity' , 'goodPattern', 'goodPatternId' , 'goodsCateId', 'goodsCateName']\n",
    "csvfile = open('商家信息.csv', 'wb')  \n",
    "csvfile.write(codecs.BOM_UTF8)\n",
    "csvfile.close()\n",
    "csvfile = open('商家信息.csv', 'a', encoding = 'utf-8')  \n",
    "writers = csv.writer(csvfile) \n",
    "writers.writerow(rownames)\n",
    "\n",
    "for line in data:\n",
    "    writers.writerow(line)\n",
    "csvfile.close()"
   ]
  },
  {
   "cell_type": "code",
   "execution_count": null,
   "metadata": {
    "collapsed": true
   },
   "outputs": [],
   "source": []
  }
 ],
 "metadata": {
  "kernelspec": {
   "display_name": "Python 3",
   "language": "python",
   "name": "python3"
  },
  "language_info": {
   "codemirror_mode": {
    "name": "ipython",
    "version": 3
   },
   "file_extension": ".py",
   "mimetype": "text/x-python",
   "name": "python",
   "nbconvert_exporter": "python",
   "pygments_lexer": "ipython3",
   "version": "3.4.3"
  }
 },
 "nbformat": 4,
 "nbformat_minor": 0
}
